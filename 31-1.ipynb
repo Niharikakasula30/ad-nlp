{
 "cells": [
  {
   "cell_type": "code",
   "execution_count": 7,
   "id": "34eaa893-9735-4367-9ef2-64e65e56ed96",
   "metadata": {},
   "outputs": [],
   "source": [
    "sent=\"Ram is studying at Malla Reddy University in Hyderabad , India\""
   ]
  },
  {
   "cell_type": "code",
   "execution_count": 14,
   "id": "1fa9c4e5-26b8-4e9c-8f8e-6d75ffab2319",
   "metadata": {},
   "outputs": [
    {
     "name": "stderr",
     "output_type": "stream",
     "text": [
      "[nltk_data] Downloading package words to C:\\Users\\kasula\n",
      "[nltk_data]     Manisha\\AppData\\Roaming\\nltk_data...\n",
      "[nltk_data]   Unzipping corpora\\words.zip.\n"
     ]
    },
    {
     "data": {
      "text/plain": [
       "True"
      ]
     },
     "execution_count": 14,
     "metadata": {},
     "output_type": "execute_result"
    }
   ],
   "source": [
    "import nltk\n",
    "nltk.download('words')"
   ]
  },
  {
   "cell_type": "code",
   "execution_count": 20,
   "id": "45cfa3a2-136b-4e23-8788-9735cdf0f7ae",
   "metadata": {},
   "outputs": [
    {
     "name": "stdout",
     "output_type": "stream",
     "text": [
      "Collecting svgling\n",
      "  Downloading svgling-0.5.0-py3-none-any.whl.metadata (7.4 kB)\n",
      "Collecting svgwrite (from svgling)\n",
      "  Downloading svgwrite-1.4.3-py3-none-any.whl.metadata (8.8 kB)\n",
      "Downloading svgling-0.5.0-py3-none-any.whl (31 kB)\n",
      "Downloading svgwrite-1.4.3-py3-none-any.whl (67 kB)\n",
      "Installing collected packages: svgwrite, svgling\n",
      "Successfully installed svgling-0.5.0 svgwrite-1.4.3\n"
     ]
    }
   ],
   "source": [
    "!pip install svgling"
   ]
  },
  {
   "cell_type": "code",
   "execution_count": 44,
   "id": "2d9e5065-deea-4519-a5bb-8d4c8b7a7a45",
   "metadata": {},
   "outputs": [
    {
     "data": {
      "image/svg+xml": [
       "<svg baseProfile=\"full\" height=\"168px\" preserveAspectRatio=\"xMidYMid meet\" style=\"font-family: times, serif; font-weight: normal; font-style: normal; font-size: 16px\" version=\"1.1\" viewBox=\"0,0,600.0,168.0\" width=\"600px\" xmlns=\"http://www.w3.org/2000/svg\" xmlns:ev=\"http://www.w3.org/2001/xml-events\" xmlns:xlink=\"http://www.w3.org/1999/xlink\"><defs /><svg width=\"100%\" x=\"0\" y=\"0px\"><defs /><text text-anchor=\"middle\" x=\"50%\" y=\"16px\">S</text></svg><svg width=\"6.66667%\" x=\"0%\" y=\"48px\"><defs /><svg width=\"100%\" x=\"0\" y=\"0px\"><defs /><text text-anchor=\"middle\" x=\"50%\" y=\"16px\">GPE</text></svg><svg width=\"100%\" x=\"0%\" y=\"48px\"><defs /><svg width=\"100%\" x=\"0\" y=\"0px\"><defs /><text text-anchor=\"middle\" x=\"50%\" y=\"16px\">Ram</text></svg><svg width=\"100%\" x=\"0%\" y=\"48px\"><defs /><svg width=\"100%\" x=\"0\" y=\"0px\"><defs /><text text-anchor=\"middle\" x=\"50%\" y=\"16px\">NNP</text></svg></svg><line stroke=\"black\" x1=\"50%\" x2=\"50%\" y1=\"20px\" y2=\"48px\" /></svg><line stroke=\"black\" x1=\"50%\" x2=\"50%\" y1=\"20px\" y2=\"48px\" /></svg><line stroke=\"black\" x1=\"50%\" x2=\"3.33333%\" y1=\"20px\" y2=\"48px\" /><svg width=\"6.66667%\" x=\"6.66667%\" y=\"48px\"><defs /><svg width=\"100%\" x=\"0\" y=\"0px\"><defs /><text text-anchor=\"middle\" x=\"50%\" y=\"16px\">is</text></svg><svg width=\"100%\" x=\"0%\" y=\"48px\"><defs /><svg width=\"100%\" x=\"0\" y=\"0px\"><defs /><text text-anchor=\"middle\" x=\"50%\" y=\"16px\">VBZ</text></svg></svg><line stroke=\"black\" x1=\"50%\" x2=\"50%\" y1=\"20px\" y2=\"48px\" /></svg><line stroke=\"black\" x1=\"50%\" x2=\"10%\" y1=\"20px\" y2=\"48px\" /><svg width=\"13.3333%\" x=\"13.3333%\" y=\"48px\"><defs /><svg width=\"100%\" x=\"0\" y=\"0px\"><defs /><text text-anchor=\"middle\" x=\"50%\" y=\"16px\">studying</text></svg><svg width=\"100%\" x=\"0%\" y=\"48px\"><defs /><svg width=\"100%\" x=\"0\" y=\"0px\"><defs /><text text-anchor=\"middle\" x=\"50%\" y=\"16px\">VBG</text></svg></svg><line stroke=\"black\" x1=\"50%\" x2=\"50%\" y1=\"20px\" y2=\"48px\" /></svg><line stroke=\"black\" x1=\"50%\" x2=\"20%\" y1=\"20px\" y2=\"48px\" /><svg width=\"5.33333%\" x=\"26.6667%\" y=\"48px\"><defs /><svg width=\"100%\" x=\"0\" y=\"0px\"><defs /><text text-anchor=\"middle\" x=\"50%\" y=\"16px\">at</text></svg><svg width=\"100%\" x=\"0%\" y=\"48px\"><defs /><svg width=\"100%\" x=\"0\" y=\"0px\"><defs /><text text-anchor=\"middle\" x=\"50%\" y=\"16px\">IN</text></svg></svg><line stroke=\"black\" x1=\"50%\" x2=\"50%\" y1=\"20px\" y2=\"48px\" /></svg><line stroke=\"black\" x1=\"50%\" x2=\"29.3333%\" y1=\"20px\" y2=\"48px\" /><svg width=\"34.6667%\" x=\"32%\" y=\"48px\"><defs /><svg width=\"100%\" x=\"0\" y=\"0px\"><defs /><text text-anchor=\"middle\" x=\"50%\" y=\"16px\">ORGANIZATION</text></svg><svg width=\"26.9231%\" x=\"0%\" y=\"48px\"><defs /><svg width=\"100%\" x=\"0\" y=\"0px\"><defs /><text text-anchor=\"middle\" x=\"50%\" y=\"16px\">Malla</text></svg><svg width=\"100%\" x=\"0%\" y=\"48px\"><defs /><svg width=\"100%\" x=\"0\" y=\"0px\"><defs /><text text-anchor=\"middle\" x=\"50%\" y=\"16px\">NNP</text></svg></svg><line stroke=\"black\" x1=\"50%\" x2=\"50%\" y1=\"20px\" y2=\"48px\" /></svg><line stroke=\"black\" x1=\"50%\" x2=\"13.4615%\" y1=\"20px\" y2=\"48px\" /><svg width=\"26.9231%\" x=\"26.9231%\" y=\"48px\"><defs /><svg width=\"100%\" x=\"0\" y=\"0px\"><defs /><text text-anchor=\"middle\" x=\"50%\" y=\"16px\">Reddy</text></svg><svg width=\"100%\" x=\"0%\" y=\"48px\"><defs /><svg width=\"100%\" x=\"0\" y=\"0px\"><defs /><text text-anchor=\"middle\" x=\"50%\" y=\"16px\">NNP</text></svg></svg><line stroke=\"black\" x1=\"50%\" x2=\"50%\" y1=\"20px\" y2=\"48px\" /></svg><line stroke=\"black\" x1=\"50%\" x2=\"40.3846%\" y1=\"20px\" y2=\"48px\" /><svg width=\"46.1538%\" x=\"53.8462%\" y=\"48px\"><defs /><svg width=\"100%\" x=\"0\" y=\"0px\"><defs /><text text-anchor=\"middle\" x=\"50%\" y=\"16px\">University</text></svg><svg width=\"100%\" x=\"0%\" y=\"48px\"><defs /><svg width=\"100%\" x=\"0\" y=\"0px\"><defs /><text text-anchor=\"middle\" x=\"50%\" y=\"16px\">NNP</text></svg></svg><line stroke=\"black\" x1=\"50%\" x2=\"50%\" y1=\"20px\" y2=\"48px\" /></svg><line stroke=\"black\" x1=\"50%\" x2=\"76.9231%\" y1=\"20px\" y2=\"48px\" /></svg><line stroke=\"black\" x1=\"50%\" x2=\"49.3333%\" y1=\"20px\" y2=\"48px\" /><svg width=\"5.33333%\" x=\"66.6667%\" y=\"48px\"><defs /><svg width=\"100%\" x=\"0\" y=\"0px\"><defs /><text text-anchor=\"middle\" x=\"50%\" y=\"16px\">in</text></svg><svg width=\"100%\" x=\"0%\" y=\"48px\"><defs /><svg width=\"100%\" x=\"0\" y=\"0px\"><defs /><text text-anchor=\"middle\" x=\"50%\" y=\"16px\">IN</text></svg></svg><line stroke=\"black\" x1=\"50%\" x2=\"50%\" y1=\"20px\" y2=\"48px\" /></svg><line stroke=\"black\" x1=\"50%\" x2=\"69.3333%\" y1=\"20px\" y2=\"48px\" /><svg width=\"14.6667%\" x=\"72%\" y=\"48px\"><defs /><svg width=\"100%\" x=\"0\" y=\"0px\"><defs /><text text-anchor=\"middle\" x=\"50%\" y=\"16px\">GPE</text></svg><svg width=\"100%\" x=\"0%\" y=\"48px\"><defs /><svg width=\"100%\" x=\"0\" y=\"0px\"><defs /><text text-anchor=\"middle\" x=\"50%\" y=\"16px\">Hyderabad</text></svg><svg width=\"100%\" x=\"0%\" y=\"48px\"><defs /><svg width=\"100%\" x=\"0\" y=\"0px\"><defs /><text text-anchor=\"middle\" x=\"50%\" y=\"16px\">NNP</text></svg></svg><line stroke=\"black\" x1=\"50%\" x2=\"50%\" y1=\"20px\" y2=\"48px\" /></svg><line stroke=\"black\" x1=\"50%\" x2=\"50%\" y1=\"20px\" y2=\"48px\" /></svg><line stroke=\"black\" x1=\"50%\" x2=\"79.3333%\" y1=\"20px\" y2=\"48px\" /><svg width=\"4%\" x=\"86.6667%\" y=\"48px\"><defs /><svg width=\"100%\" x=\"0\" y=\"0px\"><defs /><text text-anchor=\"middle\" x=\"50%\" y=\"16px\">,</text></svg><svg width=\"100%\" x=\"0%\" y=\"48px\"><defs /><svg width=\"100%\" x=\"0\" y=\"0px\"><defs /><text text-anchor=\"middle\" x=\"50%\" y=\"16px\">,</text></svg></svg><line stroke=\"black\" x1=\"50%\" x2=\"50%\" y1=\"20px\" y2=\"48px\" /></svg><line stroke=\"black\" x1=\"50%\" x2=\"88.6667%\" y1=\"20px\" y2=\"48px\" /><svg width=\"9.33333%\" x=\"90.6667%\" y=\"48px\"><defs /><svg width=\"100%\" x=\"0\" y=\"0px\"><defs /><text text-anchor=\"middle\" x=\"50%\" y=\"16px\">GPE</text></svg><svg width=\"100%\" x=\"0%\" y=\"48px\"><defs /><svg width=\"100%\" x=\"0\" y=\"0px\"><defs /><text text-anchor=\"middle\" x=\"50%\" y=\"16px\">India</text></svg><svg width=\"100%\" x=\"0%\" y=\"48px\"><defs /><svg width=\"100%\" x=\"0\" y=\"0px\"><defs /><text text-anchor=\"middle\" x=\"50%\" y=\"16px\">NNP</text></svg></svg><line stroke=\"black\" x1=\"50%\" x2=\"50%\" y1=\"20px\" y2=\"48px\" /></svg><line stroke=\"black\" x1=\"50%\" x2=\"50%\" y1=\"20px\" y2=\"48px\" /></svg><line stroke=\"black\" x1=\"50%\" x2=\"95.3333%\" y1=\"20px\" y2=\"48px\" /></svg>"
      ],
      "text/plain": [
       "Tree('S', [Tree('GPE', [('Ram', 'NNP')]), ('is', 'VBZ'), ('studying', 'VBG'), ('at', 'IN'), Tree('ORGANIZATION', [('Malla', 'NNP'), ('Reddy', 'NNP'), ('University', 'NNP')]), ('in', 'IN'), Tree('GPE', [('Hyderabad', 'NNP')]), (',', ','), Tree('GPE', [('India', 'NNP')])])"
      ]
     },
     "execution_count": 44,
     "metadata": {},
     "output_type": "execute_result"
    }
   ],
   "source": [
    "import nltk \n",
    "from nltk import ne_chunk\n",
    "from nltk import word_tokenize\n",
    "ne_chunk(nltk.pos_tag(word_tokenize(sent)),binary=False)\n"
   ]
  },
  {
   "cell_type": "code",
   "execution_count": 42,
   "id": "61758529-e8c9-4bbc-9dde-dc7b0493e650",
   "metadata": {},
   "outputs": [
    {
     "name": "stderr",
     "output_type": "stream",
     "text": [
      "[nltk_data] Downloading package maxent_ne_chunker_tab to\n",
      "[nltk_data]     C:\\Users\\kasula Manisha\\AppData\\Roaming\\nltk_data...\n",
      "[nltk_data]   Unzipping chunkers\\maxent_ne_chunker_tab.zip.\n"
     ]
    },
    {
     "data": {
      "text/plain": [
       "True"
      ]
     },
     "execution_count": 42,
     "metadata": {},
     "output_type": "execute_result"
    }
   ],
   "source": [
    "import nltk\n",
    "nltk.download('maxent_ne_chunker_tab')"
   ]
  },
  {
   "cell_type": "code",
   "execution_count": 38,
   "id": "aa14961b-18cc-4e5b-9b48-0260257c3466",
   "metadata": {},
   "outputs": [
    {
     "name": "stderr",
     "output_type": "stream",
     "text": [
      "[nltk_data] Downloading package averaged_perceptron_tagger_eng to\n",
      "[nltk_data]     C:\\Users\\kasula Manisha\\AppData\\Roaming\\nltk_data...\n",
      "[nltk_data]   Unzipping taggers\\averaged_perceptron_tagger_eng.zip.\n"
     ]
    },
    {
     "data": {
      "text/plain": [
       "True"
      ]
     },
     "execution_count": 38,
     "metadata": {},
     "output_type": "execute_result"
    }
   ],
   "source": [
    "import nltk\n",
    "nltk.download('averaged_perceptron_tagger_eng')"
   ]
  },
  {
   "cell_type": "code",
   "execution_count": 16,
   "id": "93f389e2-3d4b-4332-8875-20d8a072dfea",
   "metadata": {},
   "outputs": [
    {
     "name": "stdout",
     "output_type": "stream",
     "text": [
      "Collecting spacy\n",
      "  Downloading spacy-3.8.4-cp312-cp312-win_amd64.whl.metadata (27 kB)\n",
      "Collecting spacy-legacy<3.1.0,>=3.0.11 (from spacy)\n",
      "  Downloading spacy_legacy-3.0.12-py2.py3-none-any.whl.metadata (2.8 kB)\n",
      "Collecting spacy-loggers<2.0.0,>=1.0.0 (from spacy)\n",
      "  Downloading spacy_loggers-1.0.5-py3-none-any.whl.metadata (23 kB)\n",
      "Collecting murmurhash<1.1.0,>=0.28.0 (from spacy)\n",
      "  Downloading murmurhash-1.0.12-cp312-cp312-win_amd64.whl.metadata (2.2 kB)\n",
      "Collecting cymem<2.1.0,>=2.0.2 (from spacy)\n",
      "  Downloading cymem-2.0.11-cp312-cp312-win_amd64.whl.metadata (8.8 kB)\n",
      "Collecting preshed<3.1.0,>=3.0.2 (from spacy)\n",
      "  Downloading preshed-3.0.9-cp312-cp312-win_amd64.whl.metadata (2.2 kB)\n",
      "Collecting thinc<8.4.0,>=8.3.4 (from spacy)\n",
      "  Downloading thinc-8.3.4-cp312-cp312-win_amd64.whl.metadata (15 kB)\n",
      "Collecting wasabi<1.2.0,>=0.9.1 (from spacy)\n",
      "  Downloading wasabi-1.1.3-py3-none-any.whl.metadata (28 kB)\n",
      "Collecting srsly<3.0.0,>=2.4.3 (from spacy)\n",
      "  Downloading srsly-2.5.1-cp312-cp312-win_amd64.whl.metadata (20 kB)\n",
      "Collecting catalogue<2.1.0,>=2.0.6 (from spacy)\n",
      "  Downloading catalogue-2.0.10-py3-none-any.whl.metadata (14 kB)\n",
      "Collecting weasel<0.5.0,>=0.1.0 (from spacy)\n",
      "  Downloading weasel-0.4.1-py3-none-any.whl.metadata (4.6 kB)\n",
      "Requirement already satisfied: typer<1.0.0,>=0.3.0 in c:\\users\\kasula manisha\\anaconda3\\lib\\site-packages (from spacy) (0.9.0)\n",
      "Requirement already satisfied: tqdm<5.0.0,>=4.38.0 in c:\\users\\kasula manisha\\anaconda3\\lib\\site-packages (from spacy) (4.66.5)\n",
      "Requirement already satisfied: numpy>=1.19.0 in c:\\users\\kasula manisha\\anaconda3\\lib\\site-packages (from spacy) (1.26.4)\n",
      "Requirement already satisfied: requests<3.0.0,>=2.13.0 in c:\\users\\kasula manisha\\anaconda3\\lib\\site-packages (from spacy) (2.32.3)\n",
      "Requirement already satisfied: pydantic!=1.8,!=1.8.1,<3.0.0,>=1.7.4 in c:\\users\\kasula manisha\\anaconda3\\lib\\site-packages (from spacy) (2.8.2)\n",
      "Requirement already satisfied: jinja2 in c:\\users\\kasula manisha\\anaconda3\\lib\\site-packages (from spacy) (3.1.4)\n",
      "Requirement already satisfied: setuptools in c:\\users\\kasula manisha\\anaconda3\\lib\\site-packages (from spacy) (75.1.0)\n",
      "Requirement already satisfied: packaging>=20.0 in c:\\users\\kasula manisha\\anaconda3\\lib\\site-packages (from spacy) (24.1)\n",
      "Collecting langcodes<4.0.0,>=3.2.0 (from spacy)\n",
      "  Downloading langcodes-3.5.0-py3-none-any.whl.metadata (29 kB)\n",
      "Collecting language-data>=1.2 (from langcodes<4.0.0,>=3.2.0->spacy)\n",
      "  Downloading language_data-1.3.0-py3-none-any.whl.metadata (4.3 kB)\n",
      "Requirement already satisfied: annotated-types>=0.4.0 in c:\\users\\kasula manisha\\anaconda3\\lib\\site-packages (from pydantic!=1.8,!=1.8.1,<3.0.0,>=1.7.4->spacy) (0.6.0)\n",
      "Requirement already satisfied: pydantic-core==2.20.1 in c:\\users\\kasula manisha\\anaconda3\\lib\\site-packages (from pydantic!=1.8,!=1.8.1,<3.0.0,>=1.7.4->spacy) (2.20.1)\n",
      "Requirement already satisfied: typing-extensions>=4.6.1 in c:\\users\\kasula manisha\\anaconda3\\lib\\site-packages (from pydantic!=1.8,!=1.8.1,<3.0.0,>=1.7.4->spacy) (4.11.0)\n",
      "Requirement already satisfied: charset-normalizer<4,>=2 in c:\\users\\kasula manisha\\anaconda3\\lib\\site-packages (from requests<3.0.0,>=2.13.0->spacy) (3.3.2)\n",
      "Requirement already satisfied: idna<4,>=2.5 in c:\\users\\kasula manisha\\anaconda3\\lib\\site-packages (from requests<3.0.0,>=2.13.0->spacy) (3.7)\n",
      "Requirement already satisfied: urllib3<3,>=1.21.1 in c:\\users\\kasula manisha\\anaconda3\\lib\\site-packages (from requests<3.0.0,>=2.13.0->spacy) (2.2.3)\n",
      "Requirement already satisfied: certifi>=2017.4.17 in c:\\users\\kasula manisha\\anaconda3\\lib\\site-packages (from requests<3.0.0,>=2.13.0->spacy) (2024.12.14)\n",
      "Collecting blis<1.3.0,>=1.2.0 (from thinc<8.4.0,>=8.3.4->spacy)\n",
      "  Downloading blis-1.2.0-cp312-cp312-win_amd64.whl.metadata (7.9 kB)\n",
      "Collecting confection<1.0.0,>=0.0.1 (from thinc<8.4.0,>=8.3.4->spacy)\n",
      "  Downloading confection-0.1.5-py3-none-any.whl.metadata (19 kB)\n",
      "Requirement already satisfied: colorama in c:\\users\\kasula manisha\\anaconda3\\lib\\site-packages (from tqdm<5.0.0,>=4.38.0->spacy) (0.4.6)\n",
      "Requirement already satisfied: click<9.0.0,>=7.1.1 in c:\\users\\kasula manisha\\anaconda3\\lib\\site-packages (from typer<1.0.0,>=0.3.0->spacy) (8.1.7)\n",
      "Collecting cloudpathlib<1.0.0,>=0.7.0 (from weasel<0.5.0,>=0.1.0->spacy)\n",
      "  Downloading cloudpathlib-0.20.0-py3-none-any.whl.metadata (14 kB)\n",
      "Requirement already satisfied: smart-open<8.0.0,>=5.2.1 in c:\\users\\kasula manisha\\anaconda3\\lib\\site-packages (from weasel<0.5.0,>=0.1.0->spacy) (5.2.1)\n",
      "Requirement already satisfied: MarkupSafe>=2.0 in c:\\users\\kasula manisha\\anaconda3\\lib\\site-packages (from jinja2->spacy) (2.1.3)\n",
      "Collecting marisa-trie>=1.1.0 (from language-data>=1.2->langcodes<4.0.0,>=3.2.0->spacy)\n",
      "  Downloading marisa_trie-1.2.1-cp312-cp312-win_amd64.whl.metadata (9.3 kB)\n",
      "Downloading spacy-3.8.4-cp312-cp312-win_amd64.whl (11.8 MB)\n",
      "   ---------------------------------------- 0.0/11.8 MB ? eta -:--:--\n",
      "   ------ --------------------------------- 1.8/11.8 MB 9.1 MB/s eta 0:00:02\n",
      "   ---------- ----------------------------- 3.1/11.8 MB 8.4 MB/s eta 0:00:02\n",
      "   -------------------- ------------------- 6.0/11.8 MB 9.5 MB/s eta 0:00:01\n",
      "   ------------------------- -------------- 7.6/11.8 MB 9.0 MB/s eta 0:00:01\n",
      "   -------------------------------- ------- 9.4/11.8 MB 9.2 MB/s eta 0:00:01\n",
      "   ------------------------------------ --- 10.7/11.8 MB 8.8 MB/s eta 0:00:01\n",
      "   -------------------------------------- - 11.3/11.8 MB 7.9 MB/s eta 0:00:01\n",
      "   ---------------------------------------- 11.8/11.8 MB 7.0 MB/s eta 0:00:00\n",
      "Downloading catalogue-2.0.10-py3-none-any.whl (17 kB)\n",
      "Downloading cymem-2.0.11-cp312-cp312-win_amd64.whl (39 kB)\n",
      "Downloading langcodes-3.5.0-py3-none-any.whl (182 kB)\n",
      "Downloading murmurhash-1.0.12-cp312-cp312-win_amd64.whl (25 kB)\n",
      "Downloading preshed-3.0.9-cp312-cp312-win_amd64.whl (122 kB)\n",
      "Downloading spacy_legacy-3.0.12-py2.py3-none-any.whl (29 kB)\n",
      "Downloading spacy_loggers-1.0.5-py3-none-any.whl (22 kB)\n",
      "Downloading srsly-2.5.1-cp312-cp312-win_amd64.whl (632 kB)\n",
      "   ---------------------------------------- 0.0/632.6 kB ? eta -:--:--\n",
      "   ---------------------------------------- 0.0/632.6 kB ? eta -:--:--\n",
      "   ---------------------------------------- 632.6/632.6 kB 2.2 MB/s eta 0:00:00\n",
      "Downloading thinc-8.3.4-cp312-cp312-win_amd64.whl (1.5 MB)\n",
      "   ---------------------------------------- 0.0/1.5 MB ? eta -:--:--\n",
      "   ---------------------------------------- 0.0/1.5 MB ? eta -:--:--\n",
      "   ------- -------------------------------- 0.3/1.5 MB ? eta -:--:--\n",
      "   ------- -------------------------------- 0.3/1.5 MB ? eta -:--:--\n",
      "   -------------- ------------------------- 0.5/1.5 MB 728.2 kB/s eta 0:00:02\n",
      "   ---------------------------- ----------- 1.0/1.5 MB 1.0 MB/s eta 0:00:01\n",
      "   ---------------------------------------- 1.5/1.5 MB 1.2 MB/s eta 0:00:00\n",
      "Downloading wasabi-1.1.3-py3-none-any.whl (27 kB)\n",
      "Downloading weasel-0.4.1-py3-none-any.whl (50 kB)\n",
      "Downloading blis-1.2.0-cp312-cp312-win_amd64.whl (6.3 MB)\n",
      "   ---------------------------------------- 0.0/6.3 MB ? eta -:--:--\n",
      "   - -------------------------------------- 0.3/6.3 MB ? eta -:--:--\n",
      "   - -------------------------------------- 0.3/6.3 MB ? eta -:--:--\n",
      "   ----- ---------------------------------- 0.8/6.3 MB 1.3 MB/s eta 0:00:05\n",
      "   ----- ---------------------------------- 0.8/6.3 MB 1.3 MB/s eta 0:00:05\n",
      "   ----- ---------------------------------- 0.8/6.3 MB 1.3 MB/s eta 0:00:05\n",
      "   ----- ---------------------------------- 0.8/6.3 MB 1.3 MB/s eta 0:00:05\n",
      "   ----- ---------------------------------- 0.8/6.3 MB 1.3 MB/s eta 0:00:05\n",
      "   ----- ---------------------------------- 0.8/6.3 MB 1.3 MB/s eta 0:00:05\n",
      "   ------ --------------------------------- 1.0/6.3 MB 484.0 kB/s eta 0:00:11\n",
      "   ------ --------------------------------- 1.0/6.3 MB 484.0 kB/s eta 0:00:11\n",
      "   ------ --------------------------------- 1.0/6.3 MB 484.0 kB/s eta 0:00:11\n",
      "   ------ --------------------------------- 1.0/6.3 MB 484.0 kB/s eta 0:00:11\n",
      "   ------ --------------------------------- 1.0/6.3 MB 484.0 kB/s eta 0:00:11\n",
      "   ------ --------------------------------- 1.0/6.3 MB 484.0 kB/s eta 0:00:11\n",
      "   ------ --------------------------------- 1.0/6.3 MB 484.0 kB/s eta 0:00:11\n",
      "   ------ --------------------------------- 1.0/6.3 MB 484.0 kB/s eta 0:00:11\n",
      "   ------ --------------------------------- 1.0/6.3 MB 484.0 kB/s eta 0:00:11\n",
      "   ------ --------------------------------- 1.0/6.3 MB 484.0 kB/s eta 0:00:11\n",
      "   ------ --------------------------------- 1.0/6.3 MB 484.0 kB/s eta 0:00:11\n",
      "   ------ --------------------------------- 1.0/6.3 MB 484.0 kB/s eta 0:00:11\n",
      "   ------ --------------------------------- 1.0/6.3 MB 484.0 kB/s eta 0:00:11\n",
      "   -------- ------------------------------- 1.3/6.3 MB 238.8 kB/s eta 0:00:21\n",
      "   ---------- ----------------------------- 1.6/6.3 MB 278.7 kB/s eta 0:00:17\n",
      "   ----------- ---------------------------- 1.8/6.3 MB 324.7 kB/s eta 0:00:14\n",
      "   ------------- -------------------------- 2.1/6.3 MB 365.8 kB/s eta 0:00:12\n",
      "   --------------- ------------------------ 2.4/6.3 MB 403.1 kB/s eta 0:00:10\n",
      "   ---------------- ----------------------- 2.6/6.3 MB 424.2 kB/s eta 0:00:09\n",
      "   ---------------- ----------------------- 2.6/6.3 MB 424.2 kB/s eta 0:00:09\n",
      "   ------------------ --------------------- 2.9/6.3 MB 448.6 kB/s eta 0:00:08\n",
      "   ------------------ --------------------- 2.9/6.3 MB 448.6 kB/s eta 0:00:08\n",
      "   -------------------- ------------------- 3.1/6.3 MB 451.2 kB/s eta 0:00:07\n",
      "   -------------------- ------------------- 3.1/6.3 MB 451.2 kB/s eta 0:00:07\n",
      "   --------------------- ------------------ 3.4/6.3 MB 473.7 kB/s eta 0:00:07\n",
      "   ----------------------- ---------------- 3.7/6.3 MB 483.6 kB/s eta 0:00:06\n",
      "   ------------------------- -------------- 3.9/6.3 MB 508.4 kB/s eta 0:00:05\n",
      "   -------------------------- ------------- 4.2/6.3 MB 529.8 kB/s eta 0:00:04\n",
      "   ---------------------------- ----------- 4.5/6.3 MB 546.7 kB/s eta 0:00:04\n",
      "   ---------------------------- ----------- 4.5/6.3 MB 546.7 kB/s eta 0:00:04\n",
      "   ------------------------------- -------- 5.0/6.3 MB 584.1 kB/s eta 0:00:03\n",
      "   --------------------------------- ------ 5.2/6.3 MB 607.2 kB/s eta 0:00:02\n",
      "   ------------------------------------ --- 5.8/6.3 MB 646.4 kB/s eta 0:00:01\n",
      "   ------------------------------------ --- 5.8/6.3 MB 646.4 kB/s eta 0:00:01\n",
      "   -------------------------------------- - 6.0/6.3 MB 645.3 kB/s eta 0:00:01\n",
      "   ---------------------------------------- 6.3/6.3 MB 658.2 kB/s eta 0:00:00\n",
      "Downloading cloudpathlib-0.20.0-py3-none-any.whl (52 kB)\n",
      "Downloading confection-0.1.5-py3-none-any.whl (35 kB)\n",
      "Downloading language_data-1.3.0-py3-none-any.whl (5.4 MB)\n",
      "   ---------------------------------------- 0.0/5.4 MB ? eta -:--:--\n",
      "   - -------------------------------------- 0.3/5.4 MB ? eta -:--:--\n",
      "   --- ------------------------------------ 0.5/5.4 MB 1.9 MB/s eta 0:00:03\n",
      "   ----- ---------------------------------- 0.8/5.4 MB 1.5 MB/s eta 0:00:04\n",
      "   ------- -------------------------------- 1.0/5.4 MB 1.4 MB/s eta 0:00:04\n",
      "   --------- ------------------------------ 1.3/5.4 MB 1.3 MB/s eta 0:00:04\n",
      "   ----------- ---------------------------- 1.6/5.4 MB 1.2 MB/s eta 0:00:04\n",
      "   ----------- ---------------------------- 1.6/5.4 MB 1.2 MB/s eta 0:00:04\n",
      "   ------------- -------------------------- 1.8/5.4 MB 1.0 MB/s eta 0:00:04\n",
      "   --------------- ------------------------ 2.1/5.4 MB 1.1 MB/s eta 0:00:04\n",
      "   ----------------- ---------------------- 2.4/5.4 MB 1.1 MB/s eta 0:00:03\n",
      "   ------------------- -------------------- 2.6/5.4 MB 1.2 MB/s eta 0:00:03\n",
      "   ----------------------- ---------------- 3.1/5.4 MB 1.2 MB/s eta 0:00:02\n",
      "   ----------------------- ---------------- 3.1/5.4 MB 1.2 MB/s eta 0:00:02\n",
      "   ------------------------- -------------- 3.4/5.4 MB 1.1 MB/s eta 0:00:02\n",
      "   --------------------------- ------------ 3.7/5.4 MB 1.1 MB/s eta 0:00:02\n",
      "   ----------------------------- ---------- 3.9/5.4 MB 1.1 MB/s eta 0:00:02\n",
      "   ------------------------------- -------- 4.2/5.4 MB 1.1 MB/s eta 0:00:02\n",
      "   --------------------------------- ------ 4.5/5.4 MB 1.1 MB/s eta 0:00:01\n",
      "   ----------------------------------- ---- 4.7/5.4 MB 1.1 MB/s eta 0:00:01\n",
      "   ------------------------------------ --- 5.0/5.4 MB 1.1 MB/s eta 0:00:01\n",
      "   ---------------------------------------- 5.4/5.4 MB 1.2 MB/s eta 0:00:00\n",
      "Downloading marisa_trie-1.2.1-cp312-cp312-win_amd64.whl (150 kB)\n",
      "Installing collected packages: cymem, wasabi, spacy-loggers, spacy-legacy, murmurhash, marisa-trie, cloudpathlib, catalogue, blis, srsly, preshed, language-data, langcodes, confection, weasel, thinc, spacy\n",
      "Successfully installed blis-1.2.0 catalogue-2.0.10 cloudpathlib-0.20.0 confection-0.1.5 cymem-2.0.11 langcodes-3.5.0 language-data-1.3.0 marisa-trie-1.2.1 murmurhash-1.0.12 preshed-3.0.9 spacy-3.8.4 spacy-legacy-3.0.12 spacy-loggers-1.0.5 srsly-2.5.1 thinc-8.3.4 wasabi-1.1.3 weasel-0.4.1\n"
     ]
    }
   ],
   "source": [
    "!pip install spacy"
   ]
  },
  {
   "cell_type": "code",
   "execution_count": 73,
   "id": "d671df25-2343-4547-aeaa-2123448a1454",
   "metadata": {},
   "outputs": [
    {
     "name": "stdout",
     "output_type": "stream",
     "text": [
      "Apple 0 5 ORG\n",
      "10000 43 48 MONEY\n",
      "New york 52 60 GPE\n"
     ]
    }
   ],
   "source": [
    "import spacy\n",
    "nlp = spacy.load('en_core_web_sm')\n",
    "doc = nlp(u'Apple  is ready to launch new phone worth $10000 in New york time square')\n",
    "for ent in doc.ents:\n",
    "    print(ent.text,ent.start_char,ent.end_char,ent.label_)"
   ]
  },
  {
   "cell_type": "code",
   "execution_count": 72,
   "id": "7c510050-440a-4b46-bc00-8660a8267681",
   "metadata": {},
   "outputs": [
    {
     "name": "stdout",
     "output_type": "stream",
     "text": [
      "Collecting en-core-web-sm==3.8.0\n",
      "  Downloading https://github.com/explosion/spacy-models/releases/download/en_core_web_sm-3.8.0/en_core_web_sm-3.8.0-py3-none-any.whl (12.8 MB)\n",
      "     ---------------------------------------- 0.0/12.8 MB ? eta -:--:--\n",
      "     ---------------------------------------- 0.0/12.8 MB ? eta -:--:--\n",
      "     ---------------------------------------- 0.0/12.8 MB ? eta -:--:--\n",
      "     - -------------------------------------- 0.5/12.8 MB 4.2 MB/s eta 0:00:03\n",
      "     - -------------------------------------- 0.5/12.8 MB 4.2 MB/s eta 0:00:03\n",
      "     - -------------------------------------- 0.5/12.8 MB 4.2 MB/s eta 0:00:03\n",
      "     -- ------------------------------------ 0.8/12.8 MB 745.8 kB/s eta 0:00:17\n",
      "     -- ------------------------------------ 0.8/12.8 MB 745.8 kB/s eta 0:00:17\n",
      "     --- ----------------------------------- 1.0/12.8 MB 729.5 kB/s eta 0:00:17\n",
      "     --- ----------------------------------- 1.0/12.8 MB 729.5 kB/s eta 0:00:17\n",
      "     --- ----------------------------------- 1.3/12.8 MB 658.2 kB/s eta 0:00:18\n",
      "     --- ----------------------------------- 1.3/12.8 MB 658.2 kB/s eta 0:00:18\n",
      "     --- ----------------------------------- 1.3/12.8 MB 658.2 kB/s eta 0:00:18\n",
      "     --- ----------------------------------- 1.3/12.8 MB 658.2 kB/s eta 0:00:18\n",
      "     ---- ---------------------------------- 1.6/12.8 MB 534.3 kB/s eta 0:00:22\n",
      "     ---- ---------------------------------- 1.6/12.8 MB 534.3 kB/s eta 0:00:22\n",
      "     ---- ---------------------------------- 1.6/12.8 MB 534.3 kB/s eta 0:00:22\n",
      "     ---- ---------------------------------- 1.6/12.8 MB 534.3 kB/s eta 0:00:22\n",
      "     ----- --------------------------------- 1.8/12.8 MB 481.7 kB/s eta 0:00:23\n",
      "     ----- --------------------------------- 1.8/12.8 MB 481.7 kB/s eta 0:00:23\n",
      "     ------ -------------------------------- 2.1/12.8 MB 487.4 kB/s eta 0:00:22\n",
      "     ------ -------------------------------- 2.1/12.8 MB 487.4 kB/s eta 0:00:22\n",
      "     ------- ------------------------------- 2.4/12.8 MB 500.9 kB/s eta 0:00:21\n",
      "     ------- ------------------------------- 2.4/12.8 MB 500.9 kB/s eta 0:00:21\n",
      "     ------- ------------------------------- 2.6/12.8 MB 522.5 kB/s eta 0:00:20\n",
      "     -------- ------------------------------ 2.9/12.8 MB 551.9 kB/s eta 0:00:18\n",
      "     --------- ----------------------------- 3.1/12.8 MB 578.6 kB/s eta 0:00:17\n",
      "     ---------- ---------------------------- 3.4/12.8 MB 597.5 kB/s eta 0:00:16\n",
      "     ---------- ---------------------------- 3.4/12.8 MB 597.5 kB/s eta 0:00:16\n",
      "     ----------- --------------------------- 3.7/12.8 MB 616.1 kB/s eta 0:00:15\n",
      "     ----------- --------------------------- 3.7/12.8 MB 616.1 kB/s eta 0:00:15\n",
      "     ----------- --------------------------- 3.9/12.8 MB 600.8 kB/s eta 0:00:15\n",
      "     ----------- --------------------------- 3.9/12.8 MB 600.8 kB/s eta 0:00:15\n",
      "     ----------- --------------------------- 3.9/12.8 MB 600.8 kB/s eta 0:00:15\n",
      "     ----------- --------------------------- 3.9/12.8 MB 600.8 kB/s eta 0:00:15\n",
      "     ----------- --------------------------- 3.9/12.8 MB 600.8 kB/s eta 0:00:15\n",
      "     ------------ -------------------------- 4.2/12.8 MB 558.1 kB/s eta 0:00:16\n",
      "     ------------ -------------------------- 4.2/12.8 MB 558.1 kB/s eta 0:00:16\n",
      "     ------------- ------------------------- 4.5/12.8 MB 549.0 kB/s eta 0:00:16\n",
      "     ------------- ------------------------- 4.5/12.8 MB 549.0 kB/s eta 0:00:16\n",
      "     ------------- ------------------------- 4.5/12.8 MB 549.0 kB/s eta 0:00:16\n",
      "     -------------- ------------------------ 4.7/12.8 MB 548.5 kB/s eta 0:00:15\n",
      "     -------------- ------------------------ 4.7/12.8 MB 548.5 kB/s eta 0:00:15\n",
      "     --------------- ----------------------- 5.0/12.8 MB 553.1 kB/s eta 0:00:15\n",
      "     --------------- ----------------------- 5.0/12.8 MB 553.1 kB/s eta 0:00:15\n",
      "     --------------- ----------------------- 5.2/12.8 MB 556.3 kB/s eta 0:00:14\n",
      "     ---------------- ---------------------- 5.5/12.8 MB 564.9 kB/s eta 0:00:13\n",
      "     ---------------- ---------------------- 5.5/12.8 MB 564.9 kB/s eta 0:00:13\n",
      "     ----------------- --------------------- 5.8/12.8 MB 564.6 kB/s eta 0:00:13\n",
      "     ----------------- --------------------- 5.8/12.8 MB 564.6 kB/s eta 0:00:13\n",
      "     ------------------ -------------------- 6.0/12.8 MB 567.9 kB/s eta 0:00:12\n",
      "     ------------------ -------------------- 6.0/12.8 MB 567.9 kB/s eta 0:00:12\n",
      "     ------------------- ------------------- 6.3/12.8 MB 566.7 kB/s eta 0:00:12\n",
      "     ------------------- ------------------- 6.3/12.8 MB 566.7 kB/s eta 0:00:12\n",
      "     ------------------- ------------------- 6.3/12.8 MB 566.7 kB/s eta 0:00:12\n",
      "     ------------------- ------------------- 6.3/12.8 MB 566.7 kB/s eta 0:00:12\n",
      "     ------------------- ------------------- 6.6/12.8 MB 552.4 kB/s eta 0:00:12\n",
      "     ------------------- ------------------- 6.6/12.8 MB 552.4 kB/s eta 0:00:12\n",
      "     -------------------- ------------------ 6.8/12.8 MB 552.6 kB/s eta 0:00:11\n",
      "     -------------------- ------------------ 6.8/12.8 MB 552.6 kB/s eta 0:00:11\n",
      "     --------------------- ----------------- 7.1/12.8 MB 555.0 kB/s eta 0:00:11\n",
      "     --------------------- ----------------- 7.1/12.8 MB 555.0 kB/s eta 0:00:11\n",
      "     ---------------------- ---------------- 7.3/12.8 MB 557.9 kB/s eta 0:00:10\n",
      "     ---------------------- ---------------- 7.3/12.8 MB 557.9 kB/s eta 0:00:10\n",
      "     ---------------------- ---------------- 7.3/12.8 MB 557.9 kB/s eta 0:00:10\n",
      "     ----------------------- --------------- 7.6/12.8 MB 545.6 kB/s eta 0:00:10\n",
      "     ----------------------- --------------- 7.6/12.8 MB 545.6 kB/s eta 0:00:10\n",
      "     ----------------------- --------------- 7.6/12.8 MB 545.6 kB/s eta 0:00:10\n",
      "     ----------------------- --------------- 7.6/12.8 MB 545.6 kB/s eta 0:00:10\n",
      "     ----------------------- --------------- 7.9/12.8 MB 533.5 kB/s eta 0:00:10\n",
      "     ----------------------- --------------- 7.9/12.8 MB 533.5 kB/s eta 0:00:10\n",
      "     ----------------------- --------------- 7.9/12.8 MB 533.5 kB/s eta 0:00:10\n",
      "     ----------------------- --------------- 7.9/12.8 MB 533.5 kB/s eta 0:00:10\n",
      "     ------------------------ -------------- 8.1/12.8 MB 521.1 kB/s eta 0:00:09\n",
      "     ------------------------ -------------- 8.1/12.8 MB 521.1 kB/s eta 0:00:09\n",
      "     ------------------------ -------------- 8.1/12.8 MB 521.1 kB/s eta 0:00:09\n",
      "     ------------------------- ------------- 8.4/12.8 MB 515.5 kB/s eta 0:00:09\n",
      "     ------------------------- ------------- 8.4/12.8 MB 515.5 kB/s eta 0:00:09\n",
      "     ------------------------- ------------- 8.4/12.8 MB 515.5 kB/s eta 0:00:09\n",
      "     -------------------------- ------------ 8.7/12.8 MB 514.3 kB/s eta 0:00:09\n",
      "     -------------------------- ------------ 8.7/12.8 MB 514.3 kB/s eta 0:00:09\n",
      "     --------------------------- ----------- 8.9/12.8 MB 515.0 kB/s eta 0:00:08\n",
      "     --------------------------- ----------- 8.9/12.8 MB 515.0 kB/s eta 0:00:08\n",
      "     --------------------------- ----------- 9.2/12.8 MB 518.6 kB/s eta 0:00:08\n",
      "     --------------------------- ----------- 9.2/12.8 MB 518.6 kB/s eta 0:00:08\n",
      "     ---------------------------- ---------- 9.4/12.8 MB 522.9 kB/s eta 0:00:07\n",
      "     ----------------------------- --------- 9.7/12.8 MB 527.0 kB/s eta 0:00:06\n",
      "     ----------------------------- --------- 9.7/12.8 MB 527.0 kB/s eta 0:00:06\n",
      "     ----------------------------- --------- 9.7/12.8 MB 527.0 kB/s eta 0:00:06\n",
      "     ----------------------------- -------- 10.0/12.8 MB 526.5 kB/s eta 0:00:06\n",
      "     ----------------------------- -------- 10.0/12.8 MB 526.5 kB/s eta 0:00:06\n",
      "     ------------------------------ ------- 10.2/12.8 MB 526.0 kB/s eta 0:00:05\n",
      "     ------------------------------ ------- 10.2/12.8 MB 526.0 kB/s eta 0:00:05\n",
      "     ------------------------------ ------- 10.2/12.8 MB 526.0 kB/s eta 0:00:05\n",
      "     ------------------------------- ------ 10.5/12.8 MB 526.0 kB/s eta 0:00:05\n",
      "     ------------------------------- ------ 10.5/12.8 MB 526.0 kB/s eta 0:00:05\n",
      "     ------------------------------- ------ 10.7/12.8 MB 527.2 kB/s eta 0:00:04\n",
      "     ------------------------------- ------ 10.7/12.8 MB 527.2 kB/s eta 0:00:04\n",
      "     ------------------------------- ------ 10.7/12.8 MB 527.2 kB/s eta 0:00:04\n",
      "     -------------------------------- ----- 11.0/12.8 MB 523.1 kB/s eta 0:00:04\n",
      "     -------------------------------- ----- 11.0/12.8 MB 523.1 kB/s eta 0:00:04\n",
      "     -------------------------------- ----- 11.0/12.8 MB 523.1 kB/s eta 0:00:04\n",
      "     --------------------------------- ---- 11.3/12.8 MB 516.2 kB/s eta 0:00:03\n",
      "     --------------------------------- ---- 11.3/12.8 MB 516.2 kB/s eta 0:00:03\n",
      "     --------------------------------- ---- 11.3/12.8 MB 516.2 kB/s eta 0:00:03\n",
      "     ---------------------------------- --- 11.5/12.8 MB 512.0 kB/s eta 0:00:03\n",
      "     ---------------------------------- --- 11.5/12.8 MB 512.0 kB/s eta 0:00:03\n",
      "     ---------------------------------- --- 11.5/12.8 MB 512.0 kB/s eta 0:00:03\n",
      "     ---------------------------------- --- 11.5/12.8 MB 512.0 kB/s eta 0:00:03\n",
      "     ----------------------------------- -- 11.8/12.8 MB 508.8 kB/s eta 0:00:02\n",
      "     ----------------------------------- -- 11.8/12.8 MB 508.8 kB/s eta 0:00:02\n",
      "     ----------------------------------- -- 11.8/12.8 MB 508.8 kB/s eta 0:00:02\n",
      "     ----------------------------------- -- 12.1/12.8 MB 504.3 kB/s eta 0:00:02\n",
      "     ----------------------------------- -- 12.1/12.8 MB 504.3 kB/s eta 0:00:02\n",
      "     ------------------------------------ - 12.3/12.8 MB 503.1 kB/s eta 0:00:01\n",
      "     ------------------------------------ - 12.3/12.8 MB 503.1 kB/s eta 0:00:01\n",
      "     ------------------------------------ - 12.3/12.8 MB 503.1 kB/s eta 0:00:01\n",
      "     ------------------------------------ - 12.3/12.8 MB 503.1 kB/s eta 0:00:01\n",
      "     -------------------------------------  12.6/12.8 MB 499.7 kB/s eta 0:00:01\n",
      "     -------------------------------------  12.6/12.8 MB 499.7 kB/s eta 0:00:01\n",
      "     -------------------------------------  12.6/12.8 MB 499.7 kB/s eta 0:00:01\n",
      "     -------------------------------------- 12.8/12.8 MB 495.3 kB/s eta 0:00:00\n",
      "Installing collected packages: en-core-web-sm\n",
      "Successfully installed en-core-web-sm-3.8.0\n",
      "\u001b[38;5;2m[+] Download and installation successful\u001b[0m\n",
      "You can now load the package via spacy.load('en_core_web_sm')\n"
     ]
    }
   ],
   "source": [
    "!python -m spacy download en_core_web_sm\n"
   ]
  },
  {
   "cell_type": "code",
   "execution_count": 74,
   "id": "b329f930-9128-41e3-a5ab-a63eafa41fd1",
   "metadata": {},
   "outputs": [],
   "source": [
    "import spacy\n",
    "nlp = spacy.load(\"en_core_web_sm\")"
   ]
  },
  {
   "cell_type": "code",
   "execution_count": 58,
   "id": "c04cb909-0629-4b6b-902d-47c1fbfd489f",
   "metadata": {},
   "outputs": [],
   "source": [
    "text = \"Elon Musk, the CEO of SpaceX and Tesla, announced that SpaceX's Starship will be launching its first crewed mission to Mars in 2027.\"\n"
   ]
  },
  {
   "cell_type": "code",
   "execution_count": 78,
   "id": "1f7ff731-eec5-4b4a-b84f-0b8b74c72703",
   "metadata": {},
   "outputs": [
    {
     "name": "stdout",
     "output_type": "stream",
     "text": [
      "Entity: Apple, Label: ORG\n",
      "Entity: 10000, Label: MONEY\n",
      "Entity: New York Times Square, Label: ORG\n"
     ]
    }
   ],
   "source": [
    "import spacy\n",
    "nlp = spacy.load(\"en_core_web_sm\")\n",
    "text = \"Apple is ready to launch a new phone worth $10000 in New York Times Square.\"\n",
    "doc = nlp(text)\n",
    "for ent in doc.ents:\n",
    "    print(f\"Entity: {ent.text}, Label: {ent.label_}\")  "
   ]
  },
  {
   "cell_type": "code",
   "execution_count": null,
   "id": "fb5298d9-a627-4bf3-a1e0-18188d293f5f",
   "metadata": {},
   "outputs": [],
   "source": [
    "from spacy import displacy\n",
    "displacy,render(doc,style=\"ent\")"
   ]
  },
  {
   "cell_type": "code",
   "execution_count": null,
   "id": "76dc6e3c-97df-4b77-98d5-c3ef9d2c6e74",
   "metadata": {},
   "outputs": [],
   "source": [
    "import pandas as pd\n",
    "entities =[(ent.text,ent.label_,ent.lemma_) for ent in doc.ents]\n",
    "df=pd.DataFrame(entities,columns=['text','type','lemma'])\n",
    "print(df)"
   ]
  },
  {
   "cell_type": "code",
   "execution_count": null,
   "id": "1e0e1038-1565-4722-b741-1717f9c04c7b",
   "metadata": {},
   "outputs": [],
   "source": []
  }
 ],
 "metadata": {
  "kernelspec": {
   "display_name": "Python [conda env:base] *",
   "language": "python",
   "name": "conda-base-py"
  },
  "language_info": {
   "codemirror_mode": {
    "name": "ipython",
    "version": 3
   },
   "file_extension": ".py",
   "mimetype": "text/x-python",
   "name": "python",
   "nbconvert_exporter": "python",
   "pygments_lexer": "ipython3",
   "version": "3.12.7"
  }
 },
 "nbformat": 4,
 "nbformat_minor": 5
}
