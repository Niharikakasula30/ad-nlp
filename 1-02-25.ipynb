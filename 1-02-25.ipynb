{
 "cells": [
  {
   "cell_type": "code",
   "execution_count": null,
   "id": "84441849-1b87-419f-ab15-68503778c8b1",
   "metadata": {},
   "outputs": [],
   "source": [
    "import numpy as np\n",
    "import pandas as pd\n",
    "import matplotlib.pyplot as plt\n",
    "df=pd.read_csv('Reviews.csv',nrows=500)\n",
    "df.head(3)"
   ]
  },
  {
   "cell_type": "code",
   "execution_count": 2,
   "id": "1a0475c8-0f07-4f1f-b2f3-ae32af79f792",
   "metadata": {},
   "outputs": [
    {
     "name": "stdout",
     "output_type": "stream",
     "text": [
      "<class 'pandas.core.frame.DataFrame'>\n",
      "RangeIndex: 500 entries, 0 to 499\n",
      "Data columns (total 10 columns):\n",
      " #   Column                  Non-Null Count  Dtype \n",
      "---  ------                  --------------  ----- \n",
      " 0   Id                      500 non-null    int64 \n",
      " 1   ProductId               500 non-null    object\n",
      " 2   UserId                  500 non-null    object\n",
      " 3   ProfileName             500 non-null    object\n",
      " 4   HelpfulnessNumerator    500 non-null    int64 \n",
      " 5   HelpfulnessDenominator  500 non-null    int64 \n",
      " 6   Score                   500 non-null    int64 \n",
      " 7   Time                    500 non-null    int64 \n",
      " 8   Summary                 500 non-null    object\n",
      " 9   Text                    500 non-null    object\n",
      "dtypes: int64(5), object(5)\n",
      "memory usage: 39.2+ KB\n"
     ]
    }
   ],
   "source": [
    "df.info()"
   ]
  },
  {
   "cell_type": "code",
   "execution_count": null,
   "id": "f98b6d62-d297-4348-817b-2f89584af984",
   "metadata": {},
   "outputs": [],
   "source": [
    "df.Summary.head()"
   ]
  },
  {
   "cell_type": "code",
   "execution_count": null,
   "id": "50b8c2a4-dd33-43f1-bb62-38be68c609fd",
   "metadata": {},
   "outputs": [],
   "source": [
    "from nltk.corpus import stopwords\n",
    "from textblob import TextBlob\n",
    "from textblob import Word\n",
    "df['Text'] = df['Text'].apply(lambda x: \"\".join(x.split()))\n",
    "df['Text'] = df['Text'].str.replace(r'[^\\w\\s]', '', regex=True)\n",
    "stop = stopwords.words('english')\n",
    "df['Text'] = df['Text'].apply(lambda x: \" \".join([word for word in x.split() if word.lower() not in stop]))\n",
    "df['Text'] = df['Text'].apply(lambda x: str(TextBlob(x).correct()))\n",
    "df['Text'].head()"
   ]
  },
  {
   "cell_type": "code",
   "execution_count": null,
   "id": "e2c483b0-e947-4e4a-99ed-cd3b8969772e",
   "metadata": {},
   "outputs": [],
   "source": [
    "pip install TextBlob"
   ]
  },
  {
   "cell_type": "code",
   "execution_count": null,
   "id": "686f7ec6-74d8-4e6e-8266-d9144aac33d8",
   "metadata": {},
   "outputs": [],
   "source": [
    "import nltk\n",
    "nltk.download('stopwords')"
   ]
  },
  {
   "cell_type": "code",
   "execution_count": null,
   "id": "8d634e8e-f728-46a6-b79b-cba1f71d0b27",
   "metadata": {},
   "outputs": [],
   "source": [
    "reviews = df\n",
    "reviews.dropna(inplace=True)\n",
    "reviews.Score.hist(bin=5,grid=False)\n",
    "plt.show()\n",
    "print(reviews.groupby('Score').count().Id)"
   ]
  },
  {
   "cell_type": "code",
   "execution_count": null,
   "id": "1616cb6e-ac8a-4f94-bc8b-f2fa777b4255",
   "metadata": {},
   "outputs": [],
   "source": [
    "score_1 = reviews(reviews['Score'] == 1].sample(n=18)\n",
    "score_2 = reviews(reviews['Score'] == 2].sample(n=18)\n",
    "score_3 = reviews(reviews['Score'] == 3].sample(n=18)\n",
    "score_4 = reviews(reviews['Score'] == 4].sample(n=18)\n",
    "score_5 = reviews(reviews['Score'] == 5].sample(n=18)"
   ]
  },
  {
   "cell_type": "code",
   "execution_count": null,
   "id": "7ae70fab-0205-4cf1-afa9-b79bbdd643ba",
   "metadata": {},
   "outputs": [],
   "source": [
    "reviews_sample = pd.concat([score_1,score_2,score_3,score_4,score_5]axis=0)\n",
    "reviews_sample.reset_index(drop=True,inplace=True)\n",
    "print(reviews_sample.groupby('Score').count().Id)"
   ]
  },
  {
   "cell_type": "code",
   "execution_count": null,
   "id": "cbfea72f-e9c0-4590-8981-6a2d4db03b6e",
   "metadata": {},
   "outputs": [],
   "source": [
    "from wordcloud import WordCloud\n",
    "reviews_str = \"\".join(reviews_sample[\"Summary'].to_numpy())\n",
    "wordcloud = WordCloud(background_color='white').generate(reviews_str)\n",
    "plt.figure(figsize(figsize=(10,10))\n",
    "plt.imshow(wordcloud,interpolation='bilinear')\n",
    "plt.axis(\"off\")\n",
    "plt.show()"
   ]
  },
  {
   "cell_type": "code",
   "execution_count": null,
   "id": "41ca06c9-d244-4791-b2aa-5b45f1c3d6fb",
   "metadata": {},
   "outputs": [],
   "source": []
  },
  {
   "cell_type": "code",
   "execution_count": null,
   "id": "e79ef7e1-77ad-4742-b622-63d2dc08928a",
   "metadata": {},
   "outputs": [],
   "source": []
  }
 ],
 "metadata": {
  "kernelspec": {
   "display_name": "Python [conda env:base] *",
   "language": "python",
   "name": "conda-base-py"
  },
  "language_info": {
   "codemirror_mode": {
    "name": "ipython",
    "version": 3
   },
   "file_extension": ".py",
   "mimetype": "text/x-python",
   "name": "python",
   "nbconvert_exporter": "python",
   "pygments_lexer": "ipython3",
   "version": "3.12.7"
  }
 },
 "nbformat": 4,
 "nbformat_minor": 5
}
