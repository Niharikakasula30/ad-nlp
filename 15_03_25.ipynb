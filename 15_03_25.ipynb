{
  "nbformat": 4,
  "nbformat_minor": 0,
  "metadata": {
    "colab": {
      "provenance": [],
      "authorship_tag": "ABX9TyMM57uR3NYhuiZ8iaNyigGP",
      "include_colab_link": true
    },
    "kernelspec": {
      "name": "python3",
      "display_name": "Python 3"
    },
    "language_info": {
      "name": "python"
    }
  },
  "cells": [
    {
      "cell_type": "markdown",
      "metadata": {
        "id": "view-in-github",
        "colab_type": "text"
      },
      "source": [
        "<a href=\"https://colab.research.google.com/github/Niharikakasula30/ad-nlp/blob/main/15_03_25.ipynb\" target=\"_parent\"><img src=\"https://colab.research.google.com/assets/colab-badge.svg\" alt=\"Open In Colab\"/></a>"
      ]
    },
    {
      "cell_type": "code",
      "execution_count": 6,
      "metadata": {
        "id": "8h9nT4fENqy6"
      },
      "outputs": [],
      "source": [
        "# Configure Gemini API\n",
        "import google.generativeai as genai\n",
        "from google.colab import userdata\n",
        "GOOGLE_API_KEY=userdata.get('GOOGLE_API_K')\n",
        "genai.configure(api_key=GOOGLE_API_KEY)"
      ]
    },
    {
      "cell_type": "code",
      "source": [
        "pip install PyPDF2"
      ],
      "metadata": {
        "colab": {
          "base_uri": "https://localhost:8080/"
        },
        "id": "otAGsfRKNy2u",
        "outputId": "1fda2948-1804-459a-c933-50f1bef526b3"
      },
      "execution_count": 7,
      "outputs": [
        {
          "output_type": "stream",
          "name": "stdout",
          "text": [
            "Collecting PyPDF2\n",
            "  Downloading pypdf2-3.0.1-py3-none-any.whl.metadata (6.8 kB)\n",
            "Downloading pypdf2-3.0.1-py3-none-any.whl (232 kB)\n",
            "\u001b[2K   \u001b[90m━━━━━━━━━━━━━━━━━━━━━━━━━━━━━━━━━━━━━━━━\u001b[0m \u001b[32m232.6/232.6 kB\u001b[0m \u001b[31m3.3 MB/s\u001b[0m eta \u001b[36m0:00:00\u001b[0m\n",
            "\u001b[?25hInstalling collected packages: PyPDF2\n",
            "Successfully installed PyPDF2-3.0.1\n"
          ]
        }
      ]
    },
    {
      "cell_type": "code",
      "source": [
        "import PyPDF2\n",
        "def extract_text_from_pdf(pdf_path):\n",
        "  \"\"\"Extracts text from a given health report PDF using PyPDF.\"\"\"\n",
        "  text = \"\"\n",
        "  with open(pdf_path,'rb') as pdf_file:\n",
        "    reader = PyPDF2.PdfReader(pdf_file)\n",
        "    for page in reader.pages:\n",
        "      text += page.extract_text() + \"\\n\"\n",
        "  return text"
      ],
      "metadata": {
        "id": "ML7RMcCBOu7h"
      },
      "execution_count": 13,
      "outputs": []
    },
    {
      "cell_type": "code",
      "source": [
        "def extract_health_insights(text):\n",
        "  \"\"\"Asks Gemini AI to extract health insights from the given report.\"\"\"\n",
        "  model = genai.GenerativeModel(\"gemini-1.5-flash\")\n",
        "  prompt = f\"Extract key insights from the following health report:\\n\\{text}\"\n",
        "  response = model.generate_content(prompt)\n",
        "  return response.text\n",
        "\n",
        "pdf_file = \"health_report.pdf\"\n",
        "extracted_text = extract_text_from_pdf(pdf_file)\n",
        "insights = extract_health_insights(extracted_text)\n",
        "print(\"Key insights:\\n\",insights)"
      ],
      "metadata": {
        "colab": {
          "base_uri": "https://localhost:8080/",
          "height": 488
        },
        "id": "FIydu_TVP8yG",
        "outputId": "93d96b82-4342-439e-b92f-968e7f46a4ec"
      },
      "execution_count": 15,
      "outputs": [
        {
          "output_type": "stream",
          "name": "stdout",
          "text": [
            "Key insights:\n",
            " Mr. Kishan Goud's (MR2100003157) health report from February 1st, 2021, reveals the following key insights:\n",
            "\n",
            "**Infectious Diseases:**\n",
            "\n",
            "* **Negative for Dengue:**  Tests for Dengue NS1 antigen, IgG, and IgM antibodies were all negative.\n",
            "* **Widal Test Suggestive of Past Exposure:**  While the Widal test showed titers above the reference range for *Salmonella Typhi* \"O\" (1:160) and \"H\" (1:80), this may indicate past exposure or infection rather than an active infection.  The titers for *Salmonella Paratyphi* \"AH\" and \"BH\" were within the normal range.  Further investigation may be needed to confirm past infection or rule out current illness, depending on the patient's clinical presentation.\n",
            "\n",
            "**Hematology:**\n",
            "\n",
            "* **Elevated ESR:**  The erythrocyte sedimentation rate (ESR) is elevated (26 mm/hr in the first hour, 52 mm/hr in the second hour), suggesting inflammation or infection.  This, combined with the Widal results, warrants further clinical assessment.\n",
            "* **Negative Malaria Test:** Rapid malaria tests for *Plasmodium vivax* and *Plasmodium falciparum* were negative.\n",
            "* **Normal Complete Blood Picture (CBP):** Hemoglobin, RBC, WBC, platelet count, and PCV were all within the normal ranges. Differential counts were also generally within normal limits.  The peripheral blood smear showed normal RBC morphology and WBCs and platelets within normal limits.\n",
            "\n",
            "**Biochemistry:**\n",
            "\n",
            "* **Normal Liver Function Tests (LFTs):**  All LFTs (bilirubin, alkaline phosphatase, SGOT, SGPT, total protein, albumin, globulin, and A/G ratio) were within normal ranges.\n",
            "* **Normal Serum Creatinine:**  Serum creatinine levels were within the normal range, indicating normal kidney function.\n",
            "* **Normal HbA1c:**  HbA1c level of 5.4% is within the normal range for a non-diabetic individual, indicating good blood glucose control.\n",
            "* **Normal Random Blood Glucose:** Random blood glucose was within the normal range.\n",
            "* **Slightly Low Serum Sodium:** Serum sodium is slightly below the lower limit of the reference range (122 mmol/l).  Whether this is clinically significant requires further evaluation within the context of the patient's overall clinical presentation.  Potassium and Chloride levels are within normal limits.\n",
            "\n",
            "**Overall:**\n",
            "\n",
            "The report shows mostly normal results, except for the elevated ESR and slightly low sodium and high *Salmonella Typhi* titers on the Widal test. The elevated ESR points towards some inflammatory process in the body. The Widal test results suggest past exposure to *Salmonella Typhi*, but the lack of other symptoms, in conjunction with the overall normal findings, would need further assessment. A physician's clinical evaluation is essential to interpret these results fully and determine the appropriate course of action. The low serum sodium also warrants consideration and further investigation if any clinical symptoms relating to low sodium are present.\n",
            "\n"
          ]
        }
      ]
    },
    {
      "cell_type": "code",
      "source": [
        "def summarize_health_report(text):\n",
        "  \"\"\"Summarizes the health report using Gemini AI.\"\"\"\n",
        "  model = genai.GenerativeModel(\"gemini-1.5-flash\")\n",
        "  prompt = f\"Summarize the following health report in a concise manner :\\n\\n{text}\"\n",
        "  response = model.generate_content(prompt)\n",
        "  return response.text\n",
        "\n",
        "summary = summarize_health_report(extracted_text)\n",
        "print(\"Summary:\\n\",summary)"
      ],
      "metadata": {
        "colab": {
          "base_uri": "https://localhost:8080/",
          "height": 89
        },
        "id": "JqhtVObCSYFc",
        "outputId": "c04259ff-f399-44b2-a169-3598884f06c6"
      },
      "execution_count": 16,
      "outputs": [
        {
          "output_type": "stream",
          "name": "stdout",
          "text": [
            "Summary:\n",
            " Mr. Kishan Goud's (MRN: MR2100003157) blood tests on 01/02/2021 showed:  Elevated ESR (26/52 mm/hr),  Widal test positive for *S. Typhi* O (1:160) and H (1:80),  negative for dengue and malaria.  Blood count was within normal limits except for slightly low platelets (2.0 lakhs/cumm).  HbA1c was 5.4% (normal).  Creatinine was 0.8 mg/dl (normal).  Liver function tests and electrolytes were mostly within normal ranges, although serum sodium was slightly low (122 mmol/l).  Random blood glucose was not provided.\n",
            "\n"
          ]
        }
      ]
    },
    {
      "cell_type": "code",
      "source": [
        "def detect_abnormalities(text):\n",
        "  \"\"\"Analyzes lab tezt results and flags abnormal values.\"\"\"\n",
        "  model = genai.GenerativeModel(\"gemini-1.5-flash\")\n",
        "  prompt = f\"Analyze the lab test results in the following health report and highlight any abnormal values:\\n\\n{text}\"\n",
        "  response = model.generate_content(prompt)\n",
        "  return response.text\n",
        "\n",
        "abnormalities = detect_abnormalities(extracted_text)\n",
        "print(\"Potential Abnormalities:\\n\",abnormalities)"
      ],
      "metadata": {
        "colab": {
          "base_uri": "https://localhost:8080/",
          "height": 193
        },
        "id": "cPcqN1UeUI77",
        "outputId": "851c0083-923e-46d3-cc99-d89a833eb8d3"
      },
      "execution_count": 17,
      "outputs": [
        {
          "output_type": "stream",
          "name": "stdout",
          "text": [
            "Potential Abnormalities:\n",
            " Based on the provided lab results, the following values fall outside the given biological reference ranges and are considered abnormal:\n",
            "\n",
            "* **Widal Test:**  S. Typhi \"O\" (1:160) and S. Typhi \"H\" (1:80) are significantly higher than the reference range of 1:20. This suggests a possible *Salmonella Typhi* infection (Typhoid fever).  The higher titer for \"O\" antigen is more indicative of active infection than the \"H\" antigen.\n",
            "\n",
            "* **ESR (Erythrocyte Sedimentation Rate):** Both the 1st hour (26 mm/hr) and 2nd hour (52 mm/hr) values are significantly elevated above the normal range of 0-8 mm/hr for the first hour.  This indicates inflammation somewhere in the body.\n",
            "\n",
            "The remaining tests show results within the normal range or negative results as expected.  However, the combination of elevated Widal test and ESR warrants further investigation and clinical correlation to confirm the diagnosis of typhoid fever and determine the cause of the inflammation.  The doctor should consider this information along with the patient's symptoms and medical history.\n",
            "\n"
          ]
        }
      ]
    },
    {
      "cell_type": "code",
      "source": [
        "def explain_medical_terms(text):\n",
        "  \"\"\" Asks Gemini AI to simplify modeical terms for patient understanding.\"\"\"\n",
        "  model = genai.GenerativeModel(\"gemini-1.5-flash\")\n",
        "  prompt = f\"Explain the medical terms in the following health report in simple language:\\n\\n{text}\"\n",
        "  response = model.generate_content(prompt)\n",
        "  return response.text\n",
        "\n",
        "explanation = explain_medical_terms(extracted_text)\n",
        "print(\"Simplified Explanation:\\n\",explanation)\n"
      ],
      "metadata": {
        "colab": {
          "base_uri": "https://localhost:8080/",
          "height": 1000
        },
        "id": "57R7Q74XU0TX",
        "outputId": "607e8c85-82fc-4f03-98bb-16261b8a652e"
      },
      "execution_count": 19,
      "outputs": [
        {
          "output_type": "stream",
          "name": "stdout",
          "text": [
            "Simplified Explanation:\n",
            " This report shows the results of several blood tests performed on Mr. Kishan Goud. Let's break down each section:\n",
            "\n",
            "**1. WIDAL Test:** This test checks for antibodies against *Salmonella* bacteria, which cause typhoid fever and paratyphoid fever.  The numbers (e.g., 1:160) represent the dilution of the blood sample at which the antibodies are still detectable.  Higher numbers generally indicate a greater likelihood of infection.\n",
            "\n",
            "* **S. Typhi \"O\" 1:160:**  Suggests a possible past or present infection with *Salmonella Typhi* (typhoid fever).  The \"O\" refers to a specific antigen of the bacteria.\n",
            "* **S. Typhi \"H\" 1:80:** Also suggests a possible past or present infection with *Salmonella Typhi*. The \"H\" refers to a different antigen of the same bacteria.\n",
            "* **S. Paratyphi \"AH\" 1:20:**  The result is within the reference range, suggesting no current or recent infection with *Salmonella Paratyphi* A (paratyphoid fever).\n",
            "* **S. Paratyphi \"BH\" 1:20:** The result is within the reference range, suggesting no current or recent infection with *Salmonella Paratyphi* B (paratyphoid fever).\n",
            "\n",
            "The fact that the Typhi results are higher than the reference range warrants further investigation by a physician.  It's important to note that a positive Widal test alone doesn't confirm typhoid; other factors need to be considered.\n",
            "\n",
            "\n",
            "**2. Dengue Serology:** This tests for dengue fever, a viral infection spread by mosquitoes.\n",
            "\n",
            "* **Dengue NS1 Antigen:** Negative –  No evidence of an active dengue infection.\n",
            "* **Dengue IgG:** Negative – No evidence of past dengue infection.\n",
            "* **Dengue IgM:** Negative – No evidence of a recent dengue infection.\n",
            "\n",
            "\n",
            "**3. Erythrocyte Sedimentation Rate (ESR):** This test measures how quickly red blood cells settle in a tube. A higher ESR can indicate inflammation in the body.\n",
            "\n",
            "* **ESR 1st Hour 26 mm/hr:**  Slightly elevated.  The normal range is 0-8 mm/hr.\n",
            "* **ESR 2nd Hour 52 mm/hr:** This is significantly elevated.\n",
            "\n",
            "\n",
            "**4. Rapid Malaria Test:** This test checks for the presence of malaria parasites in the blood.\n",
            "\n",
            "* **P.V Negative:** Negative for *Plasmodium vivax* malaria.\n",
            "* **P.F Negative:** Negative for *Plasmodium falciparum* malaria.\n",
            "\n",
            "\n",
            "**5. Complete Blood Picture (CBC):** This is a comprehensive test that provides information about different components of the blood.\n",
            "\n",
            "* **Hemoglobin (Hb):** 13.6 gms% (within normal range). This measures the oxygen-carrying capacity of the blood.\n",
            "* **Red Blood Cells (RBC):** 4.3 mill/cumm (slightly below normal range).  These are the cells that carry oxygen.\n",
            "* **White Blood Cells (WBC):** 7,200 cells/cumm (within normal range). These are the cells that fight infection.\n",
            "* **Platelet Count:** 2.0 lakhs/cumm (within normal range). These cells are involved in blood clotting.\n",
            "* **Packed Cell Volume (PCV):** 40.5% (within normal range). This measures the percentage of red blood cells in the blood.\n",
            "* **Differential Count:** This shows the percentages of different types of white blood cells. All values are within or near the normal range.\n",
            "* **Peripheral Blood Smear:**  The examination of the blood under a microscope showed normal red blood cells, white blood cells within normal limits, and adequate platelets.\n",
            "\n",
            "\n",
            "**6. HbA1c:** This test measures average blood sugar levels over the past 2-3 months.  It's used to diagnose and monitor diabetes.\n",
            "\n",
            "* **HbA1c 5.4%:** This is within the normal range for a non-diabetic person.\n",
            "\n",
            "\n",
            "**7. Serum Creatinine:** This test measures the level of creatinine in the blood, a waste product from muscle metabolism.  It helps assess kidney function.\n",
            "\n",
            "* **Serum Creatinine 0.8 mg/dl:** This is within the normal range.\n",
            "\n",
            "\n",
            "**8. Random Blood Glucose:** This measures the blood sugar level at a random time.\n",
            "\n",
            "* **Random Blood Glucose:** The result is missing from the report provided.\n",
            "\n",
            "\n",
            "**9. Liver Function Test (LFT):** These tests assess the health of the liver.  All results are within the normal ranges.\n",
            "\n",
            "* **Total Bilirubin:** Total amount of bilirubin, a byproduct of red blood cell breakdown.\n",
            "* **Direct Bilirubin:** A type of bilirubin that is already conjugated (processed by the liver).\n",
            "* **Indirect Bilirubin:** A type of bilirubin that is not yet conjugated.\n",
            "* **Serum Alkaline Phosphatase:** An enzyme found in the liver and bones.\n",
            "* **SGOT (AST):** Aspartate aminotransferase, an enzyme found in the liver and other tissues.\n",
            "* **SGPT (ALT):** Alanine aminotransferase, an enzyme primarily found in the liver.\n",
            "* **Total Protein:**  The total amount of protein in the blood.\n",
            "* **Albumin:** A type of protein made by the liver.\n",
            "* **Globulin:** Another type of protein in the blood.\n",
            "* **A/G Ratio:** The ratio of albumin to globulin.\n",
            "\n",
            "\n",
            "**10. Serum Electrolytes:** These tests measure the levels of essential minerals in the blood.\n",
            "\n",
            "* **Serum Sodium:** Slightly below the normal range.\n",
            "* **Serum Potassium:** Within the normal range.\n",
            "* **Serum Chloride:** Slightly below the normal range.\n",
            "\n",
            "\n",
            "**In summary:**  Mr. Kishan Goud's blood work shows some abnormalities (elevated ESR and slightly low Sodium and Chloride), and the Widal test suggests possible past or present typhoid infection.  However, a proper interpretation and diagnosis require a physician's evaluation, considering his clinical symptoms and medical history.  The slightly low Sodium and Chloride might also be secondary effects of another cause.  This report alone is insufficient to make a diagnosis.\n",
            "\n"
          ]
        }
      ]
    },
    {
      "cell_type": "code",
      "source": [
        "def ask_gemini_about_report(text,question):\n",
        "  \"\"\"Allows users to ask questions about their health report.\"\"\"\n",
        "  model = genai.GenerativeModel(\"gemini-1.5-flash\")\n",
        "  prompt = f\"The following is a health report:\\n\\n{text}\\n\\Answer the following question:\\n\\n{question}\"\n",
        "  response = model.generate_content(prompt)\n",
        "  return response.text\n",
        "\n",
        "question = \"What is the patient's diagnosis?\"\n",
        "answer = ask_gemini_about_report(extracted_text,question)\n",
        "print(\"Answer:\\n\",answer)"
      ],
      "metadata": {
        "colab": {
          "base_uri": "https://localhost:8080/",
          "height": 89
        },
        "id": "eEpXGeb6WnpI",
        "outputId": "b46ff72c-2757-44f6-ced1-3d072e5c62a9"
      },
      "execution_count": 20,
      "outputs": [
        {
          "output_type": "stream",
          "name": "stdout",
          "text": [
            "Answer:\n",
            " The provided lab report does not offer a diagnosis.  It shows several test results, some outside of the normal range (elevated ESR), but this is not sufficient to make a diagnosis.  A diagnosis requires clinical evaluation by a physician considering the patient's symptoms, medical history, and these lab results in context.  The slightly elevated ESR could indicate inflammation but needs further investigation.  The other results are largely within normal ranges.\n",
            "\n"
          ]
        }
      ]
    }
  ]
}